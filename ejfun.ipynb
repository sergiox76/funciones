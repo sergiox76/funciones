{
  "nbformat": 4,
  "nbformat_minor": 0,
  "metadata": {
    "colab": {
      "provenance": [],
      "authorship_tag": "ABX9TyNTEBjDM/uQ8Y6DOESa/w+q",
      "include_colab_link": true
    },
    "kernelspec": {
      "name": "python3",
      "display_name": "Python 3"
    },
    "language_info": {
      "name": "python"
    }
  },
  "cells": [
    {
      "cell_type": "markdown",
      "metadata": {
        "id": "view-in-github",
        "colab_type": "text"
      },
      "source": [
        "<a href=\"https://colab.research.google.com/github/sergiox76/funciones/blob/main/ejfun.ipynb\" target=\"_parent\"><img src=\"https://colab.research.google.com/assets/colab-badge.svg\" alt=\"Open In Colab\"/></a>"
      ]
    },
    {
      "cell_type": "markdown",
      "source": [
        "Ejercicios funciones"
      ],
      "metadata": {
        "id": "mgC-G5EIBLYh"
      }
    },
    {
      "cell_type": "code",
      "execution_count": null,
      "metadata": {
        "colab": {
          "base_uri": "https://localhost:8080/"
        },
        "id": "nW7dUndF_wFp",
        "outputId": "522a1144-371c-48e3-8c22-c1d815f9d082"
      },
      "outputs": [
        {
          "output_type": "stream",
          "name": "stdout",
          "text": [
            "Ingrese el valor del numero..:76\n",
            "el ultimo numero del digito es..: 6\n"
          ]
        }
      ],
      "source": [
        "#1\n",
        "\n",
        "def ult_dig(num):\n",
        "\n",
        "  ultimo_digito= num %10\n",
        "  return(ultimo_digito)\n",
        "\n",
        "num=int(input(\"Ingrese el valor del numero..:\"))\n",
        "entero=0\n",
        "print(\"el ultimo numero del digito es..:\",ult_dig(num))"
      ]
    },
    {
      "cell_type": "code",
      "source": [
        "#2\n",
        "def ult_dig(num):\n",
        "\n",
        "  ultimo_digito= num %100\n",
        "  return(ultimo_digito)\n",
        "\n",
        "num=int(input(\"Ingrese el valor del numero..:\"))\n",
        "entero=0\n",
        "print(\"el ultimo numero del digito es..:\",ult_dig(num))\n"
      ],
      "metadata": {
        "colab": {
          "base_uri": "https://localhost:8080/"
        },
        "id": "T0GlGYsFHj2d",
        "outputId": "72e5538b-cb67-4d88-af6c-bdcb7b9d9f06"
      },
      "execution_count": null,
      "outputs": [
        {
          "output_type": "stream",
          "name": "stdout",
          "text": [
            "Ingrese el valor del numero..:789\n",
            "el ultimo numero del digito es..: 89\n"
          ]
        }
      ]
    },
    {
      "cell_type": "code",
      "source": [
        "#3\n",
        "def cant_dig(Num):\n",
        "  Cantidad_digito=0\n",
        "\n",
        "  #Condicional para que solo acepte valores enteros positivos \n",
        "\n",
        "  while Num>=1:\n",
        "    Num=Num//10\n",
        "    Cantidad_digito +=1\n",
        "    #Fin del ciclo while \n",
        "  return(Cantidad_digito)\n",
        "\n",
        "Num=int(input('Ingrese un numero:  '))\n",
        "print('La cantidad de digitos que tiene el numero que ingreso es:  ',cant_dig(Num))"
      ],
      "metadata": {
        "id": "vYSiFDSXJPRv",
        "colab": {
          "base_uri": "https://localhost:8080/"
        },
        "outputId": "2f6db1a9-5b36-4c88-d814-9673fe2ff222"
      },
      "execution_count": null,
      "outputs": [
        {
          "output_type": "stream",
          "name": "stdout",
          "text": [
            "Ingrese un numero:  98\n",
            "La cantidad de digitos que tiene el numero que ingreso es:   2\n"
          ]
        }
      ]
    },
    {
      "cell_type": "code",
      "source": [
        "#4\n",
        "def cant_digpares(Num):\n",
        "  digits=str(Num)\n",
        "  count=0\n",
        "\n",
        "  for i in range(len(digits)):\n",
        "    if (int(digits[i]) % 2 == 0):\n",
        "      count += 1\n",
        "\n",
        "  return count\n",
        "\n",
        "Num=int(input('Ingrese un numero:  '))\n",
        "print('La cantidad de digitos pares que tiene el numero que ingreso es:  ',cant_digpares(Num))"
      ],
      "metadata": {
        "colab": {
          "base_uri": "https://localhost:8080/"
        },
        "id": "PJys0Vyg7a_0",
        "outputId": "01c3e2e0-5480-4dd6-a03d-c828d91d6aad"
      },
      "execution_count": null,
      "outputs": [
        {
          "output_type": "stream",
          "name": "stdout",
          "text": [
            "Ingrese un numero:  8779\n",
            "La cantidad de digitos pares que tiene el numero que ingreso es:   1\n"
          ]
        }
      ]
    },
    {
      "cell_type": "code",
      "source": [
        "#5\n",
        "def cant_digprimos(Num):\n",
        "  digits=str(Num)\n",
        "  Cuenta_Dig=0\n",
        "\n",
        "  for i in range(len(digits)):\n",
        "    if (int(digits[i]) % 10 == 2) or (int(digits[i]) % 10 == 5) or (int(digits[i]) % 10 == 7) or (int(digits[i]) % 10 == 3):\n",
        "      Cuenta_Dig=Cuenta_Dig+1\n",
        "\n",
        "  return Cuenta_Dig\n",
        "\n",
        "\n",
        "Num=int(input(\"Ingrese un numero: \"))\n",
        "print(\"La cantidad de digitos primos es\",cant_digprimos(Num))"
      ],
      "metadata": {
        "colab": {
          "base_uri": "https://localhost:8080/"
        },
        "id": "iFP3h4ay7oCU",
        "outputId": "01ccd191-dbc9-4a92-8686-9e8346fe9487"
      },
      "execution_count": null,
      "outputs": [
        {
          "output_type": "stream",
          "name": "stdout",
          "text": [
            "Ingrese un numero: 987\n",
            "La cantidad de digitos primos es 1\n"
          ]
        }
      ]
    },
    {
      "cell_type": "code",
      "source": [
        "#6\n",
        "def Entero_ASCii(Num):\n",
        "  digits=str(Num)\n",
        "  Caracter_ASCii=[]\n",
        "\n",
        "  for i in digits:\n",
        "    Caracter_ASCii.append(ord(i))\n",
        "  return Caracter_ASCii\n",
        "\n",
        "Num=int(input(\"Ingrese un numero: \"))\n",
        "print(\"El entero en codigo ASCii es: \",Entero_ASCii(Num))"
      ],
      "metadata": {
        "colab": {
          "base_uri": "https://localhost:8080/"
        },
        "id": "MhN_59ID71XM",
        "outputId": "9842e4c0-1416-48ec-b556-a1d22fcf7cc0"
      },
      "execution_count": null,
      "outputs": [
        {
          "output_type": "stream",
          "name": "stdout",
          "text": [
            "Ingrese un numero: 87\n",
            "El entero en codigo ASCii es:  [56, 55]\n"
          ]
        }
      ]
    },
    {
      "cell_type": "code",
      "source": [
        "#7\n",
        "def De_Ascii_A_Ent(Num):\n",
        "  digits=str(Num)\n",
        "  Caracter_ASCii=0\n",
        "\n",
        "  for i in digits:\n",
        "    Caracter_ASCii=(ord(i))\n",
        "  return Caracter_ASCii\n",
        "\n",
        "Num=(input(\"Ingrese el caracter: \"))\n",
        "print(\"El codigo ASCii es: \",Entero_ASCii(Num))"
      ],
      "metadata": {
        "colab": {
          "base_uri": "https://localhost:8080/"
        },
        "id": "rqVWqY9MDJKv",
        "outputId": "79ca2989-5028-48b0-da60-2e1ced6240a4"
      },
      "execution_count": null,
      "outputs": [
        {
          "output_type": "stream",
          "name": "stdout",
          "text": [
            "Ingrese el caracter: 89\n",
            "El codigo ASCii es:  [56, 57]\n"
          ]
        }
      ]
    },
    {
      "cell_type": "code",
      "source": [
        "#8\n",
        "def fibonacci(n):\n",
        "    a = 0\n",
        "    b = 1\n",
        "    if n >=30:\n",
        "        print(\"Incorrect input\")\n",
        "    elif n == 0:\n",
        "        return a\n",
        "    elif n == 1:\n",
        "        return b\n",
        "    else:\n",
        "        for i in range(3,n+1):\n",
        "            f.append(f[i-1] + f[i-2])\n",
        "            f = a + b\n",
        "            a = b\n",
        "            b = f\n",
        "        return b\n",
        " \n",
        "\n",
        "n=input(\"Ingrese el número: \")\n",
        "print(\"El número fibonacci es: \",fibonacci)"
      ],
      "metadata": {
        "colab": {
          "base_uri": "https://localhost:8080/"
        },
        "id": "x8expL-8DRoR",
        "outputId": "b422f375-087f-43d1-d03c-496d8d37afc5"
      },
      "execution_count": null,
      "outputs": [
        {
          "output_type": "stream",
          "name": "stdout",
          "text": [
            "Ingrese el número: 98\n",
            "El número fibonacci es:  <function fibonacci at 0x7fde66df5680>\n"
          ]
        }
      ]
    },
    {
      "cell_type": "code",
      "source": [
        "#9\n",
        "def factorial(n): \n",
        "    return 1 if (n==1 or n==0) else n * factorial(n - 1);  \n",
        "  \n",
        "num =int(input(\"Ingrese el número: \")) \n",
        "print(\"Factorial of\",num,\"is\", factorial(num))"
      ],
      "metadata": {
        "colab": {
          "base_uri": "https://localhost:8080/"
        },
        "id": "qQJIIajJEEEM",
        "outputId": "d3947cac-1cfc-452e-af5a-1814f3053d67"
      },
      "execution_count": null,
      "outputs": [
        {
          "output_type": "stream",
          "name": "stdout",
          "text": [
            "Ingrese el número: 98\n",
            "Factorial of 98 is 9426890448883247745626185743057242473809693764078951663494238777294707070023223798882976159207729119823605850588608460429412647567360000000000000000000000\n"
          ]
        }
      ]
    },
    {
      "cell_type": "code",
      "source": [
        "#11\n",
        "def multiplo(a,b):\n",
        "  return True if a % b == 0 else False \n",
        "a=int(input(\"Ingrese el valor del numero..:\"))\n",
        "b=int(input(\"Ingrese el valor del digito..:\"))\n",
        "print(multiplo(a,b))"
      ],
      "metadata": {
        "colab": {
          "base_uri": "https://localhost:8080/"
        },
        "id": "fHXoLXt4IzYn",
        "outputId": "00433fc1-812d-4896-8d6c-8cd099628ba5"
      },
      "execution_count": null,
      "outputs": [
        {
          "output_type": "stream",
          "name": "stdout",
          "text": [
            "Ingrese el valor del numero..:56\n",
            "Ingrese el valor del digito..:4\n",
            "True\n"
          ]
        }
      ]
    },
    {
      "cell_type": "code",
      "source": [
        "#12\n",
        "def DigEnNum(a,b):\n",
        "  while a>=0:\n",
        "        return True if a % 10 == b  else False        \n",
        "a=int(input(\"Ingrese el valor del numero..:\"))\n",
        "b=int(input(\"Ingrese el valor del digito..:\"))\n",
        "entero=0\n",
        "print(DigEnNum(a,b))        "
      ],
      "metadata": {
        "colab": {
          "base_uri": "https://localhost:8080/"
        },
        "id": "AxgnecgrI7H5",
        "outputId": "92627b21-2e27-46f4-a5d2-0bd68de233ff"
      },
      "execution_count": null,
      "outputs": [
        {
          "output_type": "stream",
          "name": "stdout",
          "text": [
            "Ingrese el valor del numero..:67\n",
            "Ingrese el valor del digito..:7\n",
            "True\n"
          ]
        }
      ]
    },
    {
      "cell_type": "code",
      "source": [
        "#13\n",
        "def cont(num,dig):\n",
        "  contador=0\n",
        "  if num>=0:\n",
        "   if num %10 == dig:\n",
        "      contador=contador+1\n",
        "  num//=10\n",
        "  return contador\n",
        "num=int(input(\"Ingrese el valor del numero..:\"))\n",
        "dig=int(input(\"Ingrese el valor del digito..:\"))\n",
        "print(\"cantidad de veces que esta el digito..:\",cont(num,dig))"
      ],
      "metadata": {
        "colab": {
          "base_uri": "https://localhost:8080/"
        },
        "id": "EQbIOBTQI9u4",
        "outputId": "d45bd550-5a68-4836-905c-9e1a2cf19500"
      },
      "execution_count": null,
      "outputs": [
        {
          "output_type": "stream",
          "name": "stdout",
          "text": [
            "Ingrese el valor del numero..:9\n",
            "Ingrese el valor del digito..:7\n",
            "cantidad de veces que esta el digito..: 0\n"
          ]
        }
      ]
    },
    {
      "cell_type": "code",
      "source": [
        "#14\n",
        "def num(num1,num2):\n",
        "  if num1>num2:\n",
        "    return num1\n",
        "  else:\n",
        "    return num2\n",
        "num1=int(input(\"Ingrese el valor del numero 1..:\"))\n",
        "num2=int(input(\"Ingrese el valor del numero 2..:\"))\n",
        "print(num(num1,num2))"
      ],
      "metadata": {
        "colab": {
          "base_uri": "https://localhost:8080/"
        },
        "id": "bY-W6QGoJANQ",
        "outputId": "ca645a94-587e-4819-975e-c736b85f6d9e"
      },
      "execution_count": null,
      "outputs": [
        {
          "output_type": "stream",
          "name": "stdout",
          "text": [
            "Ingrese el valor del numero 1..:9\n",
            "Ingrese el valor del numero 2..:6\n",
            "9\n"
          ]
        }
      ]
    },
    {
      "cell_type": "code",
      "source": [
        "#15\n",
        "def multiplo(num1,num2):\n",
        "  if num1 % num2 == 0:\n",
        "    return True\n",
        "  else:\n",
        "      return False\n",
        "num1=int(input(\"Ingrese el valor del numero..:\"))\n",
        "num2=int(input(\"Ingrese el valor del numero..:\"))\n",
        "entero=0\n",
        "print(multiplo(num1,num2))"
      ],
      "metadata": {
        "colab": {
          "base_uri": "https://localhost:8080/"
        },
        "id": "17prCn8hJD04",
        "outputId": "216b0836-40d6-477c-b33c-1abfb4d3ea81"
      },
      "execution_count": null,
      "outputs": [
        {
          "output_type": "stream",
          "name": "stdout",
          "text": [
            "Ingrese el valor del numero..:6\n",
            "Ingrese el valor del numero..:2\n",
            "True\n"
          ]
        }
      ]
    }
  ]
}